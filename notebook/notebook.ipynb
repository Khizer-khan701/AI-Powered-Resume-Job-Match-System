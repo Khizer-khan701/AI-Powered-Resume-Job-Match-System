{
 "cells": [
  {
   "cell_type": "code",
   "execution_count": 1,
   "id": "f35934ef",
   "metadata": {},
   "outputs": [
    {
     "name": "stderr",
     "output_type": "stream",
     "text": [
      "C:\\Users\\PMYLS\\AppData\\Roaming\\Python\\Python311\\site-packages\\tqdm\\auto.py:21: TqdmWarning: IProgress not found. Please update jupyter and ipywidgets. See https://ipywidgets.readthedocs.io/en/stable/user_install.html\n",
      "  from .autonotebook import tqdm as notebook_tqdm\n"
     ]
    }
   ],
   "source": [
    "from langchain_openai import ChatOpenAI\n",
    "from dotenv import load_dotenv\n",
    "from langchain.document_loaders import TextLoader,PyPDFLoader\n",
    "from langchain_community.docstore.document import Document\n",
    "from typing import List"
   ]
  },
  {
   "cell_type": "code",
   "execution_count": 2,
   "id": "447c201f",
   "metadata": {},
   "outputs": [
    {
     "data": {
      "text/plain": [
       "True"
      ]
     },
     "execution_count": 2,
     "metadata": {},
     "output_type": "execute_result"
    }
   ],
   "source": [
    "load_dotenv()"
   ]
  },
  {
   "cell_type": "code",
   "execution_count": 3,
   "id": "518b68b5",
   "metadata": {},
   "outputs": [],
   "source": [
    "def load_document(file_path:str)->List[Document]:\n",
    "    \"\"\"Take a filepath a return the list of documents\"\"\"\n",
    "    loader=PyPDFLoader(\n",
    "        file_path,\n",
    "    )\n",
    "    documents=loader.load()\n",
    "    return documents"
   ]
  },
  {
   "cell_type": "code",
   "execution_count": 4,
   "id": "586aa093",
   "metadata": {},
   "outputs": [
    {
     "data": {
      "text/plain": [
       "[Document(metadata={'producer': 'Canva', 'creator': 'Canva', 'creationdate': '2025-05-07T13:27:19+00:00', 'title': 'Purple and White Clean and Professional Resume', 'moddate': '2025-05-07T13:27:18+00:00', 'keywords': 'DAGmw1BIgjw,BAGc12IvLL4,0', 'author': 'Jack Sparrow', 'source': \"C:/Users/PMYLS/Downloads/Khizer's Resume (1).pdf\", 'total_pages': 2, 'page': 0, 'page_label': '1'}, page_content=\"KHIZER DAWOOD\\nSUMMARY\\nI am from AI background, with strong experience in machine learning and data science. I completed a Machine\\nLearning internship at Unified Mentor India, where I gained hands-on experience in deploying machine learning\\nmodels and implementing CI/CD workflows. I am further enhancing my skills through a Data Science Lab course\\nfrom WorldQuant University. Additionally, I have practical experience working with Tableau for data visualization\\nand dashboard creation, strengthening my ability to turn data insights into actionable results.\\nSKILLS\\nWORK EXPERIENCE\\nPython Programming: Data Analysis , automation , API development (Flask, FlaskAPI)\\nMachine Learning: Data Ingestion , Data Transformation, Model Training, Feature Engineering, Feature Selection,\\nModel Deployment.\\nAI & ML Frameworks: Scikit-learn, pandas, Numpy, Seaborn, Pytorch, pySpark, TensorFlow.\\nTableau: Customizing tableau dashboards and reports\\nDatabases: MySQL, MongoDB\\nHTML: Front end web development\\nCSS: Styling and customizing web pages\\nDab No 1 Mansehra, Pakistan • +92-311-5683641 • khizerkhan81009@gmail.comGithub:  https://github.com/Khizer-khan701\\nAI/Machine Learning Engineer\\nLinkedIn:  https://www.linkedin.com/in/khizer-dawood-88bb68284/\\nUNIFIED MENTOR: (Machine learning Internship) | (6 Months)\\nGained hands-on experience in the tech industry, working with leading machine learning and AI frameworks such as\\nscikit-learn and TensorFlow.\\nDeveloped skills in machine learning model deployment and building end-to-end ML pipelines.\\nCompleted a key project titled Mobile Phone Pricing, which predicted mobile phone price categories (low, medium,\\nhigh) based on features like RAM, memory, camera size, and battery capacity.\\nCollaborated in a team environment to apply machine learning algorithms, optimize model performance, and deliver\\nactionable insights.\\nStrengthened understanding of practical machine learning workflows and best practices in a real-world business\\nsetting.\\nWORLD QUANT UNIVERISTY (Data Science Lab) | (18 Months)\\nGained hands-on experience with machine learning techniques including linear regression, logistic regression,\\ndecision trees, random forests, and ARIMA models for time series forecasting.\\nCompleted 4 out of 8 real-world data projects:\\nHousing in Mexico\\nHousing in Buenos Aires\\nAir Quality in Nairobi\\nEarthquake Damage in Nepal\\nLearned to work with and manage databases such as MySQL and MongoDB, enhancing data handling and\\nextraction skills.\\nDeveloped capabilities in managing time series data, analyzing trends, and making predictions using advanced\\nstatistical models.\\nStrengthened problem-solving, data analysis, and model evaluation skills through practical, project-based learning.\\nTableau: (novaXccelerate) | (18 months)\\nDesigned and developed Tableau dashboards and reports to visualize key metrics for a cab organization.\\nTranslated raw data into actionable insights by creating interactive visualizations, improving the client’s\\nunderstanding of operational performance.\\nDelivered customized reports addressing client-specific needs, such as driver performance, ride statistics, fuel\\ncosts, and service patterns.\\nEnhanced client decision-making by implementing data filters, calculated fields, and interactive elements in\\ndashboards.\\nStrengthened practical experience in data visualization and dashboard design using Tableau’s full range of tools\\nand features.\\nEDUCATION\\nBachelor's in Artificial Intelligence | Hazara university | CGPA (3.9) \\nCERTIFICATION\\nUNIFIED MENTOR (Machine Learning Internship): https://unifiedmentor.com/verify-certificate/UMID17022518775\\nTableau\"),\n",
       " Document(metadata={'producer': 'Canva', 'creator': 'Canva', 'creationdate': '2025-05-07T13:27:19+00:00', 'title': 'Purple and White Clean and Professional Resume', 'moddate': '2025-05-07T13:27:18+00:00', 'keywords': 'DAGmw1BIgjw,BAGc12IvLL4,0', 'author': 'Jack Sparrow', 'source': \"C:/Users/PMYLS/Downloads/Khizer's Resume (1).pdf\", 'total_pages': 2, 'page': 1, 'page_label': '2'}, page_content='')]"
      ]
     },
     "execution_count": 4,
     "metadata": {},
     "output_type": "execute_result"
    }
   ],
   "source": [
    "documents=load_document(r\"C:/Users/PMYLS/Downloads/Khizer's Resume (1).pdf\")\n",
    "documents\n"
   ]
  },
  {
   "cell_type": "code",
   "execution_count": 5,
   "id": "4c0d6e6a",
   "metadata": {},
   "outputs": [],
   "source": [
    "from langchain.text_splitter import RecursiveCharacterTextSplitter\n",
    "def filter_documents(docs:List[Document])->List[Document]:\n",
    "    \"\"\"give a list of document objects, return a new list Document objects containing only 'source' in metadata and the original page_content\"\"\"\n",
    "    filter_docs:List[Document]=[]\n",
    "    for doc in docs:\n",
    "        src=doc.metadata.get(\"source\")\n",
    "        filter_docs.append(\n",
    "            Document(\n",
    "                page_content=doc.page_content,\n",
    "                metadata={\"source\":src}\n",
    "            )\n",
    "        )\n",
    "    return filter_docs"
   ]
  },
  {
   "cell_type": "code",
   "execution_count": 6,
   "id": "d8dbb06a",
   "metadata": {},
   "outputs": [
    {
     "data": {
      "text/plain": [
       "[Document(metadata={'source': \"C:/Users/PMYLS/Downloads/Khizer's Resume (1).pdf\"}, page_content=\"KHIZER DAWOOD\\nSUMMARY\\nI am from AI background, with strong experience in machine learning and data science. I completed a Machine\\nLearning internship at Unified Mentor India, where I gained hands-on experience in deploying machine learning\\nmodels and implementing CI/CD workflows. I am further enhancing my skills through a Data Science Lab course\\nfrom WorldQuant University. Additionally, I have practical experience working with Tableau for data visualization\\nand dashboard creation, strengthening my ability to turn data insights into actionable results.\\nSKILLS\\nWORK EXPERIENCE\\nPython Programming: Data Analysis , automation , API development (Flask, FlaskAPI)\\nMachine Learning: Data Ingestion , Data Transformation, Model Training, Feature Engineering, Feature Selection,\\nModel Deployment.\\nAI & ML Frameworks: Scikit-learn, pandas, Numpy, Seaborn, Pytorch, pySpark, TensorFlow.\\nTableau: Customizing tableau dashboards and reports\\nDatabases: MySQL, MongoDB\\nHTML: Front end web development\\nCSS: Styling and customizing web pages\\nDab No 1 Mansehra, Pakistan • +92-311-5683641 • khizerkhan81009@gmail.comGithub:  https://github.com/Khizer-khan701\\nAI/Machine Learning Engineer\\nLinkedIn:  https://www.linkedin.com/in/khizer-dawood-88bb68284/\\nUNIFIED MENTOR: (Machine learning Internship) | (6 Months)\\nGained hands-on experience in the tech industry, working with leading machine learning and AI frameworks such as\\nscikit-learn and TensorFlow.\\nDeveloped skills in machine learning model deployment and building end-to-end ML pipelines.\\nCompleted a key project titled Mobile Phone Pricing, which predicted mobile phone price categories (low, medium,\\nhigh) based on features like RAM, memory, camera size, and battery capacity.\\nCollaborated in a team environment to apply machine learning algorithms, optimize model performance, and deliver\\nactionable insights.\\nStrengthened understanding of practical machine learning workflows and best practices in a real-world business\\nsetting.\\nWORLD QUANT UNIVERISTY (Data Science Lab) | (18 Months)\\nGained hands-on experience with machine learning techniques including linear regression, logistic regression,\\ndecision trees, random forests, and ARIMA models for time series forecasting.\\nCompleted 4 out of 8 real-world data projects:\\nHousing in Mexico\\nHousing in Buenos Aires\\nAir Quality in Nairobi\\nEarthquake Damage in Nepal\\nLearned to work with and manage databases such as MySQL and MongoDB, enhancing data handling and\\nextraction skills.\\nDeveloped capabilities in managing time series data, analyzing trends, and making predictions using advanced\\nstatistical models.\\nStrengthened problem-solving, data analysis, and model evaluation skills through practical, project-based learning.\\nTableau: (novaXccelerate) | (18 months)\\nDesigned and developed Tableau dashboards and reports to visualize key metrics for a cab organization.\\nTranslated raw data into actionable insights by creating interactive visualizations, improving the client’s\\nunderstanding of operational performance.\\nDelivered customized reports addressing client-specific needs, such as driver performance, ride statistics, fuel\\ncosts, and service patterns.\\nEnhanced client decision-making by implementing data filters, calculated fields, and interactive elements in\\ndashboards.\\nStrengthened practical experience in data visualization and dashboard design using Tableau’s full range of tools\\nand features.\\nEDUCATION\\nBachelor's in Artificial Intelligence | Hazara university | CGPA (3.9) \\nCERTIFICATION\\nUNIFIED MENTOR (Machine Learning Internship): https://unifiedmentor.com/verify-certificate/UMID17022518775\\nTableau\"),\n",
       " Document(metadata={'source': \"C:/Users/PMYLS/Downloads/Khizer's Resume (1).pdf\"}, page_content='')]"
      ]
     },
     "execution_count": 6,
     "metadata": {},
     "output_type": "execute_result"
    }
   ],
   "source": [
    "filter_docs=filter_documents(documents)\n",
    "filter_docs"
   ]
  },
  {
   "cell_type": "code",
   "execution_count": 7,
   "id": "2184fda3",
   "metadata": {},
   "outputs": [],
   "source": [
    "from langchain.text_splitter import RecursiveCharacterTextSplitter\n",
    "def text_split(filter_docs):\n",
    "    splitter=RecursiveCharacterTextSplitter(\n",
    "        chunk_size=300,\n",
    "        chunk_overlap=30\n",
    "    )\n",
    "    text_chunks=splitter.split_documents(filter_docs)\n",
    "    return text_chunks"
   ]
  },
  {
   "cell_type": "code",
   "execution_count": 8,
   "id": "983e5d2b",
   "metadata": {},
   "outputs": [
    {
     "name": "stdout",
     "output_type": "stream",
     "text": [
      "number of chunks 15\n"
     ]
    }
   ],
   "source": [
    "texts_chunks=text_split(filter_docs)\n",
    "print(f\"number of chunks {len(texts_chunks)}\")"
   ]
  },
  {
   "cell_type": "code",
   "execution_count": 9,
   "id": "118600dc",
   "metadata": {},
   "outputs": [],
   "source": [
    "from langchain_openai import OpenAIEmbeddings\n",
    "from langchain.vectorstores import FAISS\n",
    "embeddings=OpenAIEmbeddings()\n",
    "vector_store=FAISS.from_documents(texts_chunks,embeddings)\n"
   ]
  },
  {
   "cell_type": "code",
   "execution_count": 10,
   "id": "32e7f3b8",
   "metadata": {},
   "outputs": [],
   "source": [
    "retriever=vector_store.as_retriever(search_type=\"similarity\",search_kwargs={\"k\":5})"
   ]
  },
  {
   "cell_type": "code",
   "execution_count": 16,
   "id": "d92773f7",
   "metadata": {},
   "outputs": [],
   "source": [
    "from langchain.prompts import PromptTemplate\n",
    "prompt=PromptTemplate(\n",
    "    template=\"\"\"\n",
    "You are a helpful assistant. \n",
    "You can answer from the given context text. \n",
    "If you don't have sufficient context, just say don't know. \n",
    "1. Give the Resume summary\n",
    "2. job fit Score\n",
    "3. Suggested improvements (skills, keywords)\n",
    "{context}\\n\n",
    "Job Description: {job_description}\n",
    "\"\"\",\n",
    "input_variables=[\"context\",\"job_description\"]\n",
    ")"
   ]
  },
  {
   "cell_type": "code",
   "execution_count": 12,
   "id": "dce9decf",
   "metadata": {},
   "outputs": [],
   "source": [
    "from langchain_openai import ChatOpenAI\n",
    "model=ChatOpenAI()"
   ]
  },
  {
   "cell_type": "code",
   "execution_count": 22,
   "id": "c143d12e",
   "metadata": {},
   "outputs": [],
   "source": [
    "from langchain.schema.runnable import RunnableLambda,RunnablePassthrough,RunnableParallel\n",
    "parallel_chain=RunnableParallel(\n",
    "    {\n",
    "        \"context\": retriever | RunnableLambda(lambda doc: \"\\n\\n\".join([d.page_content for d in doc])),\n",
    "        \"job_description\":RunnablePassthrough()\n",
    "    }\n",
    ")\n"
   ]
  },
  {
   "cell_type": "code",
   "execution_count": null,
   "id": "414a1b51",
   "metadata": {},
   "outputs": [
    {
     "name": "stdout",
     "output_type": "stream",
     "text": [
      "1. Resume Summary:\n",
      "Khizer Dawood is an AI/Machine Learning Engineer with hands-on experience in machine learning and data science. He completed a Machine Learning internship at Unified Mentor India, where he gained experience in deploying machine learning models using scikit-learn and TensorFlow. He has developed skills in machine learning model deployment and building end-to-end ML pipelines.\n",
      "\n",
      "2. Job Fit Score:\n",
      "Based on the provided information, Khizer Dawood seems to be a good fit for the AI/ML Engineer position. He has experience in working with ML frameworks such as scikit-learn and TensorFlow, as well as in developing prediction models and conducting research. He also has skills in database management and web development, which could be useful in this role.\n",
      "\n",
      "3. Suggested Improvements:\n",
      "- Enhance skills in PyTorch and other ML frameworks in addition to TensorFlow.\n",
      "- Increase proficiency in weightage-based algorithms and LLM fine-tuning.\n",
      "- Gain more experience with clustering and classification techniques.\n",
      "- Improve knowledge of web scraping tools.\n",
      "- Consider obtaining certifications in cloud AI platforms and MLOps practices for additional qualifications.\n"
     ]
    }
   ],
   "source": [
    "main_chain=parallel_chain|prompt|model\n",
    "result = main_chain.invoke(\"\"\"\"\"\")\n",
    "print(result)"
   ]
  },
  {
   "cell_type": "code",
   "execution_count": null,
   "id": "72f478d4",
   "metadata": {},
   "outputs": [],
   "source": []
  }
 ],
 "metadata": {
  "kernelspec": {
   "display_name": "Python 3",
   "language": "python",
   "name": "python3"
  },
  "language_info": {
   "codemirror_mode": {
    "name": "ipython",
    "version": 3
   },
   "file_extension": ".py",
   "mimetype": "text/x-python",
   "name": "python",
   "nbconvert_exporter": "python",
   "pygments_lexer": "ipython3",
   "version": "3.11.0"
  }
 },
 "nbformat": 4,
 "nbformat_minor": 5
}
